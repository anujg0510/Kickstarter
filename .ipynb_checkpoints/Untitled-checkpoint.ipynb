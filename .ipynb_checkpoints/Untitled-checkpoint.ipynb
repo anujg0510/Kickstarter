{
 "cells": [
  {
   "cell_type": "code",
   "execution_count": 3,
   "metadata": {},
   "outputs": [],
   "source": [
    "from pyspark.sql import SparkSession\n"
   ]
  },
  {
   "cell_type": "code",
   "execution_count": 11,
   "metadata": {},
   "outputs": [],
   "source": [
    "spark = SparkSession.builder.appName('Ops').getOrCreate()"
   ]
  },
  {
   "cell_type": "code",
   "execution_count": 14,
   "metadata": {},
   "outputs": [
    {
     "data": {
      "text/plain": [
       "Row(ID =1000002330, name ='The Songs of Adelaide & Abullah', category ='Poetry', main_category ='Publishing', currency ='GBP', deadline ='2015-10-09 11:36:00', goal ='1000', launched ='2015-08-11 12:12:28', pledged ='0', state ='failed', backers ='0', country ='GB', usd pledged ='0', _c13=None, _c14=None, _c15=None, _c16=None)"
      ]
     },
     "execution_count": 14,
     "metadata": {},
     "output_type": "execute_result"
    }
   ],
   "source": [
    "df = spark.read.csv(\"/Users/anujgupta/Documents/pythonds/Projects/Kickstarter projects/ks-projects-201612.csv\",\n",
    "                    inferSchema=True, header=True)\n",
    "df.head()"
   ]
  },
  {
   "cell_type": "code",
   "execution_count": 15,
   "metadata": {},
   "outputs": [
    {
     "name": "stdout",
     "output_type": "stream",
     "text": [
      "+----------+--------------------+--------------+--------------+---------+-------------------+------+-------------------+--------+----------+--------+--------+------------+----+----+----+----+\n",
      "|       ID |               name |     category |main_category |currency |          deadline | goal |          launched |pledged |    state |backers |country |usd pledged |_c13|_c14|_c15|_c16|\n",
      "+----------+--------------------+--------------+--------------+---------+-------------------+------+-------------------+--------+----------+--------+--------+------------+----+----+----+----+\n",
      "|1000002330|The Songs of Adel...|        Poetry|    Publishing|      GBP|2015-10-09 11:36:00|  1000|2015-08-11 12:12:28|       0|    failed|       0|      GB|           0|null|null|null|null|\n",
      "|1000004038|      Where is Hank?|Narrative Film|  Film & Video|      USD|2013-02-26 00:20:50| 45000|2013-01-12 00:20:50|     220|    failed|       3|      US|         220|null|null|null|null|\n",
      "|1000007540|ToshiCapital Reko...|         Music|         Music|      USD|2012-04-16 04:24:11|  5000|2012-03-17 03:24:11|       1|    failed|       1|      US|           1|null|null|null|null|\n",
      "|1000011046|Community Film Pr...|  Film & Video|  Film & Video|      USD|2015-08-29 01:00:00| 19500|2015-07-04 08:35:03|    1283|  canceled|      14|      US|        1283|null|null|null|null|\n",
      "|1000014025|Monarch Espresso Bar|   Restaurants|          Food|      USD|2016-04-01 13:38:27| 50000|2016-02-26 13:38:27|   52375|successful|     224|      US|       52375|null|null|null|null|\n",
      "|1000023410|Support Solar Roa...|          Food|          Food|      USD|2014-12-21 18:30:44|  1000|2014-12-01 18:30:44|    1205|successful|      16|      US|        1205|null|null|null|null|\n",
      "|1000030581|Chaser Strips. Ou...|        Drinks|          Food|      USD|2016-03-17 19:05:12| 25000|2016-02-01 20:05:12|     453|    failed|      40|      US|         453|null|null|null|null|\n",
      "|1000034518|SPIN - Premium Re...|Product Design|        Design|      USD|2014-05-29 18:14:43|125000|2014-04-24 18:14:43|    8233|  canceled|      58|      US|        8233|null|null|null|null|\n",
      "| 100004195|STUDIO IN THE SKY...|   Documentary|  Film & Video|      USD|2014-08-10 21:55:48| 65000|2014-07-11 21:55:48| 6240.57|  canceled|      43|      US|     6240.57|null|null|null|null|\n",
      "| 100004721| Of Jesus and Madmen|    Nonfiction|    Publishing|      CAD|2013-10-09 18:19:37|  2500|2013-09-09 18:19:37|       0|    failed|       0|      CA|           0|null|null|null|null|\n",
      "| 100005484|    Lisa Lim New CD!|    Indie Rock|         Music|      USD|2013-04-08 06:42:58| 12500|2013-03-09 06:42:58|   12700|successful|     100|      US|       12700|null|null|null|null|\n",
      "|1000055792|  The Cottage Market|        Crafts|        Crafts|      USD|2014-10-02 17:11:50|  5000|2014-09-02 17:11:50|       0|    failed|       0|      US|           0|null|null|null|null|\n",
      "|1000056157|G-Spot Place for ...|         Games|         Games|      USD|2016-03-25 22:01:12|200000|2016-02-09 23:01:12|       0|    failed|       0|      US|           0|null|null|null|null|\n",
      "|1000064368|      Survival Rings|        Design|        Design|      USD|2015-02-28 02:10:53|  2500|2015-01-29 02:10:53|     664|    failed|      11|      US|         664|null|null|null|null|\n",
      "|1000064918|           The Beard|   Comic Books|        Comics|      USD|2014-11-08 22:27:52|  1500|2014-10-09 22:27:52|     395|    failed|      16|      US|         395|null|null|null|null|\n",
      "|1000068480|Notes From London...|     Art Books|    Publishing|      USD|2015-05-10 21:20:54|  3000|2015-04-10 21:20:54|     789|    failed|      20|      US|         789|null|null|null|null|\n",
      "|1000070642|Mike Corey's Dark...|         Music|         Music|      USD|2012-08-17 14:11:32|   250|2012-08-02 14:11:32|     250|successful|       7|      US|         250|null|null|null|null|\n",
      "|1000071625|            Boco Tea|          Food|          Food|      USD|2012-06-02 17:24:32|  5000|2012-05-03 17:24:32|    1781|    failed|      40|      US|        1781|null|null|null|null|\n",
      "|1000072011|CMUK. Shoes: Take...|       Fashion|       Fashion|      USD|2013-12-30 07:06:11| 20000|2013-11-25 07:06:11|   34268|successful|     624|      US|       34268|null|null|null|null|\n",
      "|1000082254|Alice in Wonderla...|       Theater|       Theater|      USD|2014-06-15 10:09:03|  3500|2014-05-16 10:10:38|     650|    failed|      12|      US|         650|null|null|null|null|\n",
      "+----------+--------------------+--------------+--------------+---------+-------------------+------+-------------------+--------+----------+--------+--------+------------+----+----+----+----+\n",
      "only showing top 20 rows\n",
      "\n"
     ]
    }
   ],
   "source": [
    "df.show()"
   ]
  },
  {
   "cell_type": "code",
   "execution_count": 18,
   "metadata": {},
   "outputs": [
    {
     "ename": "AttributeError",
     "evalue": "'builtin_function_or_method' object has no attribute 'df'",
     "output_type": "error",
     "traceback": [
      "\u001b[0;31m---------------------------------------------------------------------------\u001b[0m",
      "\u001b[0;31mAttributeError\u001b[0m                            Traceback (most recent call last)",
      "\u001b[0;32m<ipython-input-18-accc20bc25c5>\u001b[0m in \u001b[0;36m<module>\u001b[0;34m()\u001b[0m\n\u001b[0;32m----> 1\u001b[0;31m \u001b[0mprint\u001b[0m\u001b[0;34m.\u001b[0m\u001b[0mdf\u001b[0m\u001b[0;34m\u001b[0m\u001b[0m\n\u001b[0m",
      "\u001b[0;31mAttributeError\u001b[0m: 'builtin_function_or_method' object has no attribute 'df'"
     ]
    }
   ],
   "source": [
    "print()"
   ]
  },
  {
   "cell_type": "code",
   "execution_count": null,
   "metadata": {},
   "outputs": [],
   "source": []
  }
 ],
 "metadata": {
  "kernelspec": {
   "display_name": "Python 3",
   "language": "python",
   "name": "python3"
  },
  "language_info": {
   "codemirror_mode": {
    "name": "ipython",
    "version": 3
   },
   "file_extension": ".py",
   "mimetype": "text/x-python",
   "name": "python",
   "nbconvert_exporter": "python",
   "pygments_lexer": "ipython3",
   "version": "3.6.5"
  }
 },
 "nbformat": 4,
 "nbformat_minor": 2
}
